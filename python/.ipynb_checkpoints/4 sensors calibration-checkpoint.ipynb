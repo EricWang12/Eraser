{
 "cells": [
  {
   "cell_type": "code",
   "execution_count": 1,
   "metadata": {},
   "outputs": [],
   "source": [
    "import matplotlib.pyplot as plt\n",
    "import numpy as np\n",
    "from ipywidgets import interact, interactive \n"
   ]
  },
  {
   "cell_type": "code",
   "execution_count": 12,
   "metadata": {},
   "outputs": [
    {
     "data": {
      "application/vnd.jupyter.widget-view+json": {
       "model_id": "ba3eda81d4174f51b46fe4c2d9bbea68",
       "version_major": 2,
       "version_minor": 0
      },
      "text/plain": [
       "interactive(children=(FloatSlider(value=3.0, description='a', max=10.0, min=-3.0, step=0.2), Output()), _dom_c…"
      ]
     },
     "metadata": {},
     "output_type": "display_data"
    },
    {
     "data": {
      "text/plain": [
       "<function __main__.f(a)>"
      ]
     },
     "execution_count": 12,
     "metadata": {},
     "output_type": "execute_result"
    }
   ],
   "source": [
    "a = 1\n",
    "\n",
    "x = np.array([1, 2, 3, 4])\n",
    "colors = ['g', 'c', 'm','r']\n",
    "def f(a):\n",
    "    for n,c in zipped(x, colors):\n",
    "        plt.axvline(n, label='lazer %i' % n, c=c)\n",
    "    \n",
    "    y = a*x\n",
    "    plt.plot(x,y, 'bo',x,y, 'k')\n",
    "    for xy in zip(x, y):                                       # <--\n",
    "        plt.annotate('( %s)' % xy[1], xy=xy, textcoords='data') \n",
    "    plt.ylim(0,30)\n",
    "interact(f,a = (-3, 10, 0.2))\n"
   ]
  },
  {
   "cell_type": "code",
   "execution_count": null,
   "metadata": {},
   "outputs": [],
   "source": []
  }
 ],
 "metadata": {
  "kernelspec": {
   "display_name": "Python 3",
   "language": "python",
   "name": "python3"
  },
  "language_info": {
   "codemirror_mode": {
    "name": "ipython",
    "version": 3
   },
   "file_extension": ".py",
   "mimetype": "text/x-python",
   "name": "python",
   "nbconvert_exporter": "python",
   "pygments_lexer": "ipython3",
   "version": "3.7.4"
  }
 },
 "nbformat": 4,
 "nbformat_minor": 2
}
